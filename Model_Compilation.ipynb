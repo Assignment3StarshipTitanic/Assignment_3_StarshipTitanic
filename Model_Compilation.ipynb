{
 "cells": [
  {
   "cell_type": "markdown",
   "id": "25a88284",
   "metadata": {},
   "source": [
    "# Model Compilation\n",
    "This section includes CatBoost + LightGBM + Voting Ensemble.\n"
   ]
  },
  {
   "cell_type": "code",
   "execution_count": null,
   "id": "ce3fe796",
   "metadata": {},
   "outputs": [],
   "source": [
    "# Imports\n",
    "\n",
    "from catboost import CatBoostClassifier\n",
    "from lightgbm import LGBMClassifier\n",
    "from sklearn.ensemble import VotingClassifier\n",
    "\n",
    "# Initialize individual models\n",
    "cat = CatBoostClassifier(verbose=0, random_seed=42)\n",
    "lgb = LGBMClassifier(random_state=42)\n",
    "\n",
    "# Create Voting Ensemble\n",
    "voting = VotingClassifier(\n",
    "    estimators=[\n",
    "        ('cat', cat),\n",
    "        ('lgb', lgb)\n",
    "    ],\n",
    "    voting='soft'\n",
    ")\n",
    "\n",
    "# Fit models\n",
    "cat.fit(X_train_scaled, y_train)\n",
    "lgb.fit(X_train_scaled, y_train)\n",
    "voting.fit(X_train_scaled, y_train)"
   ]
  }
 ],
 "metadata": {
  "kernelspec": {
   "display_name": "Python 3 (ipykernel)",
   "language": "python",
   "name": "python3"
  },
  "language_info": {
   "codemirror_mode": {
    "name": "ipython",
    "version": 3
   },
   "file_extension": ".py",
   "mimetype": "text/x-python",
   "name": "python",
   "nbconvert_exporter": "python",
   "pygments_lexer": "ipython3",
   "version": "3.11.7"
  }
 },
 "nbformat": 4,
 "nbformat_minor": 5
}
