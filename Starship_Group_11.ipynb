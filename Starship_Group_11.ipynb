{
  "nbformat": 4,
  "nbformat_minor": 0,
  "metadata": {
    "colab": {
      "provenance": []
    },
    "kernelspec": {
      "name": "python3",
      "display_name": "Python 3"
    },
    "language_info": {
      "name": "python"
    }
  },
  "cells": [
    {
      "cell_type": "code",
      "source": [
        "from google.colab import drive\n",
        "drive.mount('/content/drive')\n"
      ],
      "metadata": {
        "id": "NKxPLd8tsqXF",
        "colab": {
          "base_uri": "https://localhost:8080/"
        },
        "outputId": "893f5e53-0fa8-4338-b9d1-438adb2ea308"
      },
      "execution_count": 1,
      "outputs": [
        {
          "output_type": "stream",
          "name": "stdout",
          "text": [
            "Mounted at /content/drive\n"
          ]
        }
      ]
    },
    {
      "cell_type": "code",
      "source": [
        "!pip install catboost lightgbm shap -q"
      ],
      "metadata": {
        "id": "D7PCfF7XOFr4",
        "colab": {
          "base_uri": "https://localhost:8080/"
        },
        "outputId": "097c99da-e9b2-483f-efd8-53377326072b"
      },
      "execution_count": 2,
      "outputs": [
        {
          "output_type": "stream",
          "name": "stdout",
          "text": [
            "\u001b[2K   \u001b[90m━━━━━━━━━━━━━━━━━━━━━━━━━━━━━━━━━━━━━━━━\u001b[0m \u001b[32m99.2/99.2 MB\u001b[0m \u001b[31m8.4 MB/s\u001b[0m eta \u001b[36m0:00:00\u001b[0m\n",
            "\u001b[?25h"
          ]
        }
      ]
    },
    {
      "cell_type": "markdown",
      "source": [
        "Imports and Setup"
      ],
      "metadata": {
        "id": "3Mu92EFPOJN-"
      }
    },
    {
      "cell_type": "code",
      "source": [
        "# For data handling and display\n",
        "import pandas as pd\n",
        "from IPython.display import display\n",
        "\n",
        "# Machine learning models and ensemble\n",
        "from catboost import CatBoostClassifier\n",
        "from lightgbm import LGBMClassifier\n",
        "from sklearn.ensemble import VotingClassifier\n",
        "\n"
      ],
      "metadata": {
        "id": "lmxi0tuwOGQ_"
      },
      "execution_count": null,
      "outputs": []
    },
    {
      "cell_type": "markdown",
      "source": [
        "Model Training with Ensemble Learning (CatBoost + LightGBM Voting Classifier)"
      ],
      "metadata": {
        "id": "UHrvmsrm-RpQ"
      }
    },
    {
      "cell_type": "code",
      "source": [
        "# set up CatBoost and LightGBM models\n",
        "cat = CatBoostClassifier(verbose=0, random_seed=42)\n",
        "lgb = LGBMClassifier(random_state=42)\n",
        "\n",
        "# combine both using soft voting\n",
        "voting = VotingClassifier(estimators=[\n",
        "    ('cat', cat),\n",
        "    ('lgb', lgb)\n",
        "], voting='soft')\n",
        "\n",
        "# train individual models\n",
        "cat.fit(X_train_scaled, y_train)\n",
        "lgb.fit(X_train_scaled, y_train)\n",
        "\n",
        "# train the ensemble model\n",
        "voting.fit(X_train_scaled, y_train)\n"
      ],
      "metadata": {
        "id": "2knbeFB1JRqA"
      },
      "execution_count": null,
      "outputs": []
    }
  ]
}
