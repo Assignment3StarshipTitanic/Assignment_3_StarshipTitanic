{
  "nbformat": 4,
  "nbformat_minor": 0,
  "metadata": {
    "colab": {
      "provenance": []
    },
    "kernelspec": {
      "name": "python3",
      "display_name": "Python 3"
    },
    "language_info": {
      "name": "python"
    }
  },
  "cells": [
    {
      "cell_type": "markdown",
      "source": [
        "Exploratory Data Analysis (EDA)"
      ],
      "metadata": {
        "id": "monCxdr7h8NR"
      }
    },
    {
      "cell_type": "code",
      "source": [
        "\n",
        "\n",
        "#Exploratory Data Analysis (EDA)\n",
        "def run_eda_plots(data):\n",
        "    # Filter training data only\n",
        "    train_data = data[~data[\"Transported\"].isna()]\n",
        "\n",
        "    # 1. HomePlanet Distribution\n",
        "    plt.figure(figsize=(6, 4))\n",
        "    sns.countplot(data=train_data, x=\"HomePlanet\")\n",
        "    plt.title(\"HomePlanet Distribution\")\n",
        "    plt.tight_layout()\n",
        "    plt.show()\n",
        "\n",
        "    # 2. CryoSleep vs Transported\n",
        "    plt.figure(figsize=(6, 4))\n",
        "    sns.countplot(x=\"CryoSleep\", hue=\"Transported\", data=train_data)\n",
        "    plt.title(\"CryoSleep vs Transported\")\n",
        "    plt.tight_layout()\n",
        "    plt.show()\n",
        "\n",
        "    # 3. Age Distribution\n",
        "    plt.figure(figsize=(6, 4))\n",
        "    sns.histplot(data[\"Age\"], bins=30, kde=True)\n",
        "    plt.title(\"Age Distribution\")\n",
        "    plt.tight_layout()\n",
        "    plt.show()\n",
        "\n",
        "    # 4. Total Spend by Transported\n",
        "    plt.figure(figsize=(6, 4))\n",
        "    sns.boxplot(x=\"Transported\", y=\"TotalSpend\", data=train_data)\n",
        "    plt.title(\"Total Spend by Transported\")\n",
        "    plt.tight_layout()\n",
        "    plt.show()\n",
        "\n",
        "    # 5. Correlation Heatmap\n",
        "    plt.figure(figsize=(10, 6))\n",
        "    corr = data.select_dtypes(include=[\"int64\", \"float64\"]).corr()\n",
        "    sns.heatmap(corr, annot=False, cmap=\"coolwarm\", linewidths=0.5)\n",
        "    plt.title(\"Feature Correlation Heatmap\")\n",
        "    plt.tight_layout()\n",
        "    plt.show()\n",
        "\n"
      ],
      "metadata": {
        "id": "H5cwPSz2h6yH"
      },
      "execution_count": 3,
      "outputs": []
    }
  ]
}
