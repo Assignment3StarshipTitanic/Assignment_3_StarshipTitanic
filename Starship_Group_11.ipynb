{
  "nbformat": 4,
  "nbformat_minor": 0,
  "metadata": {
    "colab": {
      "provenance": []
    },
    "kernelspec": {
      "name": "python3",
      "display_name": "Python 3"
    },
    "language_info": {
      "name": "python"
    }
  },
  "cells": [
    {
      "cell_type": "markdown",
      "source": [
        "## Problem Statement\n",
        "\n",
        "In this project, we're working with data from a fictional scenario: the Spaceship Titanic, where passengers may have been accidentally transported to another dimension during a failed mission. Our goal is to build a machine learning model that can predict whether or not a passenger was transported, based on various features like age, spending habits, cabin location, and more.\n",
        "\n",
        "This is a classic binary classification problem — we're trying to predict `True` or `False` for the `Transported` column in the dataset.\n",
        "\n",
        "---\n",
        "\n",
        "## Potential Solution\n",
        "\n",
        "To tackle the problem, we followed a structured approach:\n",
        "\n",
        "1. **Understanding and Preparing the Data**  \n",
        "   We started by combining the train and test datasets to ensure consistent preprocessing. Missing values were handled thoughtfully — either by filling them with statistical values like medians or using logical defaults.\n",
        "\n",
        "2. **Feature Engineering**  \n",
        "   We created new features such as:\n",
        "   - `GroupSize` (number of people in a passenger's group)\n",
        "   - `IsAlone` (whether the passenger is traveling alone)\n",
        "   - `LogSpend` (log-transformed total spend)\n",
        "   - `AgeGroup` (categorized age ranges)  \n",
        "   These helped us capture patterns that raw data might miss.\n",
        "\n",
        "3. **Encoding and Scaling**  \n",
        "   Categorical columns were label-encoded, and numerical features were scaled to prepare for model training.\n",
        "\n",
        "4. **Model Training**  \n",
        "   We used two powerful gradient boosting models: CatBoost and LightGBM. To make the most of both, we combined them using a soft-voting ensemble classifier.\n",
        "\n",
        "5. **Model Evaluation**  \n",
        "   We evaluated each model using accuracy, confusion matrix, and classification report. A comparison plot made it easier to visualize performance differences.\n",
        "\n",
        "6. **Model Interpretability**  \n",
        "   To understand *why* the model made certain predictions, we used SHAP values, which show the impact of each feature on the output.\n",
        "\n",
        "7. **Final Prediction**  \n",
        "   After selecting the best-performing model, we made predictions on the test set and saved them for submission.\n",
        "\n",
        "This process helped us build a reliable and interpretable model to predict passenger outcomes on the Spaceship Titanic.\n"
      ],
      "metadata": {
        "id": "RqwCqgq9SoRw"
      }
    }
  ]
}