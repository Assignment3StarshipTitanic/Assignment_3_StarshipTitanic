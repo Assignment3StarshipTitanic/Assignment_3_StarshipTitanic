{
 "cells": [
  {
   "cell_type": "code",
   "execution_count": null,
   "id": "7add0f69-0efd-4f75-b2c3-018707294131",
   "metadata": {},
   "outputs": [],
   "source": [
    "# MODEL SAVING\n",
    "import joblib\n",
    "\n",
    "joblib.dump(cat, \"catboost_model.pkl\")\n",
    "joblib.dump(lgb, \"lightgbm_model.pkl\")\n",
    "joblib.dump(voting, \"voting_ensemble_model.pkl\")\n",
    "joblib.dump(scaler, \"scaler.pkl\")\n",
    "print(\"Models and scaler saved successfully.\")\n",
    "\n",
    "# DEPLOYMENT FUNCTION (using saved Voting model and scaler)\n",
    "def make_prediction(input_df):\n",
    "    loaded_model = joblib.load(\"voting_ensemble_model.pkl\")\n",
    "    loaded_scaler = joblib.load(\"scaler.pkl\")\n",
    "    input_scaled = loaded_scaler.transform(input_df)\n",
    "    return loaded_model.predict(input_scaled)\n",
    "\n",
    "# Example usage (commented out to prevent auto-run)\n",
    "# example_input = test_cleaned.iloc[:1]\n",
    "# print(\"Prediction:\", make_prediction(example_input))\n",
    "\n",
    "# MONITORING (basic print log)\n",
    "import datetime\n",
    "\n",
    "def log_prediction(input_df, prediction):\n",
    "    timestamp = datetime.datetime.now().strftime(\"%Y-%m-%d %H:%M:%S\")\n",
    "    print(f\"[{timestamp}] Input shape: {input_df.shape}, Prediction: {prediction.tolist()}\")\n",
    "\n",
    "# Example logging\n",
    "# log_prediction(example_input, make_prediction(example_input))\n",
    "\n",
    "# MAINTENANCE INFO\n",
    "print(\"Model version: 1.0\")\n",
    "print(f\"Last trained on: {datetime.datetime.now().date()}\")\n"
   ]
  }
 ],
 "metadata": {
  "kernelspec": {
   "display_name": "Python 3 (ipykernel)",
   "language": "python",
   "name": "python3"
  },
  "language_info": {
   "codemirror_mode": {
    "name": "ipython",
    "version": 3
   },
   "file_extension": ".py",
   "mimetype": "text/x-python",
   "name": "python",
   "nbconvert_exporter": "python",
   "pygments_lexer": "ipython3",
   "version": "3.11.5"
  }
 },
 "nbformat": 4,
 "nbformat_minor": 5
}
